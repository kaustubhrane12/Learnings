{
 "cells": [
  {
   "cell_type": "markdown",
   "id": "c1f00b26",
   "metadata": {},
   "source": [
    "### 1. Problem Statement:\n",
    "\n",
    "Create the below pattern using nested for loop in Python."
   ]
  },
  {
   "cell_type": "code",
   "execution_count": 5,
   "id": "5aae8e0b",
   "metadata": {},
   "outputs": [],
   "source": [
    "# *\n",
    "# **\n",
    "# ***\n",
    "# ****\n",
    "# *****\n",
    "# ****\n",
    "# ***\n",
    "# **\n",
    "# *\n"
   ]
  },
  {
   "cell_type": "markdown",
   "id": "dbd7705e",
   "metadata": {},
   "source": [
    "### Solution-1:"
   ]
  },
  {
   "cell_type": "code",
   "execution_count": 4,
   "id": "143dbec1",
   "metadata": {},
   "outputs": [
    {
     "name": "stdout",
     "output_type": "stream",
     "text": [
      "Peak value:5\n",
      "*\n",
      "**\n",
      "***\n",
      "****\n",
      "*****\n",
      "****\n",
      "***\n",
      "**\n",
      "*\n"
     ]
    }
   ],
   "source": [
    "a=\"\"\n",
    "c=int(input(\"Peak value:\"))\n",
    "\n",
    "for i in range(c):\n",
    "    if i<=c:\n",
    "        a+=\"*\"\n",
    "        print(a)\n",
    "    \n",
    "\n",
    "for i in range(1,c):\n",
    "    b=a[i:]\n",
    "    print(b)"
   ]
  },
  {
   "cell_type": "markdown",
   "id": "189315f2",
   "metadata": {},
   "source": [
    "### Solution-2:"
   ]
  },
  {
   "cell_type": "code",
   "execution_count": 3,
   "id": "782f93fc",
   "metadata": {},
   "outputs": [
    {
     "name": "stdout",
     "output_type": "stream",
     "text": [
      "enter peak value:5\n",
      "* \n",
      "* * \n",
      "* * * \n",
      "* * * * \n",
      "* * * * * \n",
      "* * * * \n",
      "* * * \n",
      "* * \n",
      "* \n"
     ]
    }
   ],
   "source": [
    "a=int(input('enter peak value:'))\n",
    "\n",
    "for i in range(a):\n",
    "    for j in range(i+1):\n",
    "        print(\"*\",end=\" \")\n",
    "    print(\"\")\n",
    "\n",
    "for i in range(-a+1,0):\n",
    "    for j in range(i,0):\n",
    "        print(\"*\",end=\" \")\n",
    "    print(\"\")\n",
    "    "
   ]
  },
  {
   "cell_type": "markdown",
   "id": "040c7bd6",
   "metadata": {},
   "source": [
    "### 2. Problem Statement:\n",
    "\n",
    "Take input from user then in output same data must be in revered manner."
   ]
  },
  {
   "cell_type": "markdown",
   "id": "fcc5e22f",
   "metadata": {},
   "source": [
    "### Solution:"
   ]
  },
  {
   "cell_type": "code",
   "execution_count": 6,
   "id": "b27f91c3",
   "metadata": {},
   "outputs": [
    {
     "name": "stdout",
     "output_type": "stream",
     "text": [
      "Enter your good name: Michael\n",
      "leahciM\n"
     ]
    }
   ],
   "source": [
    "a=input(\"Enter your good name: \")\n",
    "\n",
    "print(a[::-1])"
   ]
  }
 ],
 "metadata": {
  "kernelspec": {
   "display_name": "Python 3",
   "language": "python",
   "name": "python3"
  },
  "language_info": {
   "codemirror_mode": {
    "name": "ipython",
    "version": 3
   },
   "file_extension": ".py",
   "mimetype": "text/x-python",
   "name": "python",
   "nbconvert_exporter": "python",
   "pygments_lexer": "ipython3",
   "version": "3.8.8"
  }
 },
 "nbformat": 4,
 "nbformat_minor": 5
}
